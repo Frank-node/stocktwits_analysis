{
 "cells": [
  {
   "cell_type": "markdown",
   "metadata": {},
   "source": [
    "# Leveraging Social Media in Stock Prediction\n",
    "\n",
    "## Introduction\n",
    "Predicting stock market performance is big business. However, most models are incomplete as they have been unable to take social influence into account. Mining social media for insight into the sentiment of stock traders and investors has the potential to lead to a more-complete understanding of stocks performance. \n",
    "\n",
    "[StockTwits](http://stocktwits.com/) is a social-media platform similar to Twitter aimed at stock traders and investors. Instead of hashtags, StockTwits has stock ticker tags like **\\$AMD** or **\\$AAPL** that users post in their twits. In addition, twits can be tagged with 'bullish' or 'bearish' to indicate if the poster thinks the mentioned stocks will move upwards or downwards in price. \n",
    "\n",
    "We plan on conducting several analyses using this data:\n",
    "* Visualize metrics from both StockTwits and the Stock Market to gain intuition on their relationship. \n",
    "* Attempt clustering companies based on co-mentions in twits to automatically identify different industries or similar companies based on investor interest. \n",
    "* Implement sentiment analysis on specific companies, and see if trending companies and bullish/bearish tags correlate with the movement of the actual stock price or trading volume. \n",
    "\n",
    "Ultimately, our team will focus on combining data from StockTwits with actual stock data to gain interesting insights into the stock market.\n",
    "\n",
    "## Progress\n",
    "Work has begun mining StockTweets and processing tweets to predict the authors' sentiments. A baseline sentiment predictor has been completed using \n",
    "\n",
    "Mining data is by far the most time-dependent process. As we build a larger library of tweets, we will better be able to visualize and understand the relationship between market sentiment and stock performance. \n",
    "\n",
    "## Prior Work\n",
    "StockTwits provides [several whitepapers](http://stocktwits.com/developers/docs/research) on previous experiments conducted using their service. In particular, *[On the Predictability of Stock Market Behavior\n",
    "using StockTwits Sentiment and Posting Volume](http://stocktwits.com/research/Predictability-of-stock-market-behavior-using-stocktwits-sentiment-and-posting-volume_NunoOliveira.pdf)* appears to be a useful template for this project."
   ]
  },
  {
   "cell_type": "markdown",
   "metadata": {},
   "source": []
  },
  {
   "cell_type": "code",
   "execution_count": 104,
   "metadata": {
    "collapsed": true
   },
   "outputs": [],
   "source": [
    "#from nltk.tokenize import word_tokenize\n",
    "import io, json, requests, time, os, os.path, math\n",
    "from sys import stdout\n",
    "import pandas as pd\n",
    "import numpy as np\n",
    "from sklearn.feature_extraction.text import TfidfVectorizer\n",
    "from sklearn import svm\n",
    "from pandas_datareader.data import get_data_yahoo\n",
    "from datetime import datetime, timedelta\n",
    "import matplotlib.pyplot as plt\n",
    "import seaborn\n",
    "%matplotlib inline"
   ]
  },
  {
   "cell_type": "code",
   "execution_count": 7,
   "metadata": {
    "collapsed": true
   },
   "outputs": [],
   "source": [
    "# returns python object representation of JSON in response\n",
    "def get_response(symbol, older_than, retries=5):\n",
    "    url = 'https://api.stocktwits.com/api/2/streams/symbol/%s.json?max=%d' % (symbol, older_than-1)\n",
    "    for _ in range(retries):\n",
    "        response = requests.get(url)\n",
    "        if response.status_code == 200:\n",
    "            return json.loads(response.content)\n",
    "        elif response.status_code == 429:\n",
    "            print response.content\n",
    "            return None\n",
    "        time.sleep(1.0)\n",
    "    # couldn't get response\n",
    "    return None"
   ]
  },
  {
   "cell_type": "code",
   "execution_count": 8,
   "metadata": {
    "collapsed": true
   },
   "outputs": [],
   "source": [
    "# extends the current dataset for a given symbol with more tweets\n",
    "def get_older_tweets(symbol, num_queries):    \n",
    "    path = './data/%s.json' % symbol\n",
    "    if os.path.exists(path):\n",
    "        # extending an existing json file\n",
    "        with open(path, 'r') as f:\n",
    "            data = json.load(f)\n",
    "            if len(data) > 0:\n",
    "                older_than = data[-1]['id']\n",
    "            else:\n",
    "                older_than = 1000000000000\n",
    "    else:\n",
    "        # creating a new json file\n",
    "        data = []\n",
    "        older_than = 1000000000000 # any huge number\n",
    "    \n",
    "    for i in range(num_queries):\n",
    "        content = get_response(symbol, older_than)\n",
    "        if content == None:\n",
    "            print 'Error, an API query timed out'\n",
    "            break\n",
    "        data.extend(content['messages'])\n",
    "        older_than = data[-1]['id']\n",
    "        stdout.write('\\rSuccessfully made query %d' % (i+1))\n",
    "        stdout.flush()\n",
    "        # sleep to make sure we don't get throttled\n",
    "        time.sleep(0.5)\n",
    "        \n",
    "    # write the new data to the JSON file\n",
    "    with open(path, 'w') as f:\n",
    "        json.dump(data, f)\n",
    "    print\n",
    "    print 'Done'"
   ]
  },
  {
   "cell_type": "code",
   "execution_count": 9,
   "metadata": {
    "collapsed": false
   },
   "outputs": [
    {
     "name": "stdout",
     "output_type": "stream",
     "text": [
      "Getting tweets for symbol JNUG\n",
      "Successfully made query 100\n",
      "Done\n",
      "Getting tweets for symbol LABU\n",
      "Successfully made query 100\n",
      "Done\n"
     ]
    }
   ],
   "source": [
    "# get some data\n",
    "# apparently a client can only make 200 requests an hour, so we can't get all the data at once\n",
    "\n",
    "# make data directory if needed\n",
    "if not os.path.exists('./data'):\n",
    "    os.mkdir('./data')\n",
    "    \n",
    "symbols = ['AAPL', 'TSLA', 'NVDA', 'AMD', 'JNUG', 'LABU']\n",
    "tweets_per_symbol = 3000\n",
    "for symbol in symbols:\n",
    "    path = './data/%s.json' % symbol\n",
    "    if os.path.exists(path):\n",
    "        with open(path, 'r') as f:\n",
    "            num_tweets = len(json.load(f))\n",
    "    else:\n",
    "        num_tweets = 0\n",
    "    num_queries = (tweets_per_symbol - num_tweets - 1)/30 + 1\n",
    "    if num_queries > 0:\n",
    "        print 'Getting tweets for symbol %s' % symbol\n",
    "        get_older_tweets(symbol, num_queries)"
   ]
  },
  {
   "cell_type": "code",
   "execution_count": 10,
   "metadata": {
    "collapsed": false
   },
   "outputs": [
    {
     "name": "stdout",
     "output_type": "stream",
     "text": [
      "Passed\n"
     ]
    }
   ],
   "source": [
    "# check that we're doing the querying and appending correctly without getting duplicates\n",
    "# and that message IDs are in descending order\n",
    "symbol = 'TSLA'\n",
    "with open('./data/%s.json' % symbol, 'r') as f:\n",
    "    data = json.load(f)\n",
    "S = set()\n",
    "old_id = 1000000000000\n",
    "for message in data:\n",
    "    message_id = message['id']\n",
    "    assert message_id not in S\n",
    "    assert message_id < old_id\n",
    "    old_id = message_id\n",
    "    S.add(message_id)\n",
    "print 'Passed'"
   ]
  },
  {
   "cell_type": "code",
   "execution_count": 11,
   "metadata": {
    "collapsed": true
   },
   "outputs": [],
   "source": [
    "def get_tweets_and_labels(data):\n",
    "    # filter out messages without a bullish/bearish tag\n",
    "    data = filter(lambda m: m['entities']['sentiment'] != None, data)\n",
    "    # get tweets\n",
    "    tweets = map(lambda m: m['body'], data)\n",
    "    # get labels\n",
    "    def create_label(message):\n",
    "        sentiment = message['entities']['sentiment']['basic']\n",
    "        if sentiment == 'Bearish':\n",
    "            return 0\n",
    "        elif sentiment == 'Bullish':\n",
    "            return 1\n",
    "        else:\n",
    "            raise Exception('Got unexpected sentiment')\n",
    "    labels = map(create_label, data)\n",
    "    return tweets, labels"
   ]
  },
  {
   "cell_type": "code",
   "execution_count": 12,
   "metadata": {
    "collapsed": false
   },
   "outputs": [
    {
     "name": "stdout",
     "output_type": "stream",
     "text": [
      "5954 labeled examples extracted \n"
     ]
    }
   ],
   "source": [
    "# get all tweets and labels available\n",
    "tweets = []\n",
    "labels = []\n",
    "all_tweets = []\n",
    "for filename in os.listdir('./data'):\n",
    "    path = './data/%s' % filename\n",
    "    with open(path, 'r') as f:\n",
    "        data = json.load(f)\n",
    "    all_tweets.extend(map(lambda m: m['body'], data))\n",
    "    t, l = get_tweets_and_labels(data)\n",
    "    tweets.extend(t)\n",
    "    labels.extend(l)\n",
    "assert len(tweets) == len(labels)\n",
    "print '%d labeled examples extracted ' % len(tweets)"
   ]
  },
  {
   "cell_type": "code",
   "execution_count": 13,
   "metadata": {
    "collapsed": true
   },
   "outputs": [],
   "source": [
    "def tfidf_matrix(tweets, all_tweets=None):\n",
    "    vectorizer = TfidfVectorizer()\n",
    "    if all_tweets != None:\n",
    "        # use all tweets, including unlabeled, to learn vocab and tfidf weights\n",
    "        vectorizer.fit(all_tweets)\n",
    "    else:\n",
    "        vectorizer.fit(tweets)\n",
    "    return vectorizer.transform(tweets)"
   ]
  },
  {
   "cell_type": "code",
   "execution_count": 14,
   "metadata": {
    "collapsed": true
   },
   "outputs": [],
   "source": [
    "def train_svm(X, y):\n",
    "    model = svm.LinearSVC(penalty='l2', loss='hinge', C=1.0)\n",
    "    #model = svm.SVC(C=1.0, kernel='rbf')\n",
    "    model.fit(X, y)\n",
    "    return model"
   ]
  },
  {
   "cell_type": "code",
   "execution_count": 15,
   "metadata": {
    "collapsed": false
   },
   "outputs": [
    {
     "name": "stdout",
     "output_type": "stream",
     "text": [
      "(5954, 14514)\n",
      "(5954,)\n",
      "Training set size is 5358\n",
      "Percent bullish = 73.731945%\n"
     ]
    }
   ],
   "source": [
    "X = tfidf_matrix(tweets, all_tweets)\n",
    "y = np.array(labels)\n",
    "print X.shape\n",
    "print y.shape\n",
    "\n",
    "N = X.shape[0]\n",
    "num_train = int(math.floor(N*0.9))\n",
    "P = np.random.permutation(N)\n",
    "X_tr = X[P[:num_train]]\n",
    "y_tr = y[P[:num_train]]\n",
    "X_te = X[P[num_train:]]\n",
    "y_te = y[P[num_train:]]\n",
    "print 'Training set size is %d' % num_train\n",
    "print 'Percent bullish = %f%%' % (100*y.mean())"
   ]
  },
  {
   "cell_type": "code",
   "execution_count": 127,
   "metadata": {
    "collapsed": false
   },
   "outputs": [
    {
     "name": "stdout",
     "output_type": "stream",
     "text": [
      "Training set accuracy = 0.905002\n",
      "Test set accuracy = 0.803691\n"
     ]
    }
   ],
   "source": [
    "model = train_svm(X_tr, y_tr)\n",
    "print 'Training set accuracy = %f' % model.score(X_tr, y_tr)\n",
    "print 'Test set accuracy = %f' % model.score(X_te, y_te)"
   ]
  },
  {
   "cell_type": "code",
   "execution_count": null,
   "metadata": {
    "collapsed": true
   },
   "outputs": [],
   "source": [
    "enddate=datetime.now()\n",
    "startdate=datetime(2015,1,1)\n",
    "stock_data = get_data_yahoo('AAPL',startdate,enddate)\n",
    "stock_data['Volume'].plot(legend=True,figsize=(10,4));\n",
    "stock_data['Adj Close'].plot(legend=True,figsize=(10,4));"
   ]
  },
  {
   "cell_type": "code",
   "execution_count": 42,
   "metadata": {
    "collapsed": true
   },
   "outputs": [],
   "source": [
    "# Function takes in a JSON and returns a Pandas DataFrame for easier operation. \n",
    "def stocktwits_json_to_df(data, verbose=False):\n",
    "    #data = json.loads(results)\n",
    "    columns = ['id','created_at','username','name','user_id','body','basic_sentiment','reshare_count','symbol0','symbol1','symbol2','symbol3','symbol4','symbol5','symbol6','symbol7','symbol8','symbol9']\n",
    "    db = pd.DataFrame(index=range(len(data)),columns=columns)\n",
    "    for i, message in enumerate(data):\n",
    "        db.loc[i,'id'] = message['id']\n",
    "        db.loc[i,'created_at'] = message['created_at']\n",
    "        db.loc[i,'username'] = message['user']['username']\n",
    "        db.loc[i,'name'] = message['user']['name']\n",
    "        db.loc[i,'user_id'] = message['user']['id']\n",
    "        db.loc[i,'body'] = message['body']\n",
    "        \n",
    "        #We'll classify bullish as +1 and bearish as -1 to make it ready for classification training\n",
    "        try:\n",
    "            if (message['entities']['sentiment']['basic'] == 'Bullish'):\n",
    "                db.loc[i,'basic_sentiment'] = 1\n",
    "            elif (message['entities']['sentiment']['basic'] == 'Bearish'):\n",
    "                db.loc[i,'basic_sentiment'] = -1\n",
    "            else:\n",
    "                db.loc[i,'basic_sentiment'] = 0\n",
    "        except:\n",
    "                db.loc[i,'basic_sentiment'] = 0\n",
    "                \n",
    "        db.loc[i,'reshare_count'] = message['reshares']['reshared_count']\n",
    "\n",
    "        for j, symbol in enumerate(message['symbols']):\n",
    "            if (j<10):\n",
    "                db.loc[i,'symbol'+str(j)] = symbol['symbol']\n",
    "            else:\n",
    "                break\n",
    "            \n",
    "        if verbose:\n",
    "            #print message\n",
    "            print db.loc[i,:]\n",
    "    db['created_at'] = pd.to_datetime(db['created_at'])\n",
    "    return db\n",
    "#db = stocktwits_json_to_df(S, verbose=False)\n",
    "#print db[db['basic_sentiment']!=0] # use this to see results labelled bullish or bearish"
   ]
  },
  {
   "cell_type": "code",
   "execution_count": 139,
   "metadata": {
    "collapsed": false
   },
   "outputs": [
    {
     "name": "stdout",
     "output_type": "stream",
     "text": [
      "3000 examples extracted \n"
     ]
    }
   ],
   "source": [
    "# Load tweets for visualizing data\n",
    "filename = 'LABU.json'\n",
    "path = './data/%s' % filename\n",
    "with open(path, 'r') as f:\n",
    "    data = json.load(f)\n",
    "db = stocktwits_json_to_df(data)\n",
    "print '%d examples extracted ' % db.shape[0]"
   ]
  },
  {
   "cell_type": "code",
   "execution_count": 140,
   "metadata": {
    "collapsed": false
   },
   "outputs": [],
   "source": [
    "#print db.head()\n",
    "#print db.dtypes"
   ]
  },
  {
   "cell_type": "code",
   "execution_count": 142,
   "metadata": {
    "collapsed": false
   },
   "outputs": [
    {
     "name": "stdout",
     "output_type": "stream",
     "text": [
      "2016-11-03 15:47:04 2016-11-22 21:45:28\n"
     ]
    }
   ],
   "source": [
    "enddate = db['created_at'].max() + timedelta(days=1)\n",
    "startdate = db['created_at'].min()\n",
    "print startdate, enddate\n",
    "stock_data = get_data_yahoo('LABU', startdate, enddate)"
   ]
  },
  {
   "cell_type": "code",
   "execution_count": 143,
   "metadata": {
    "collapsed": false
   },
   "outputs": [
    {
     "data": {
      "text/html": [
       "<div>\n",
       "<table border=\"1\" class=\"dataframe\">\n",
       "  <thead>\n",
       "    <tr style=\"text-align: right;\">\n",
       "      <th></th>\n",
       "      <th>Open</th>\n",
       "      <th>High</th>\n",
       "      <th>Low</th>\n",
       "      <th>Close</th>\n",
       "      <th>Volume</th>\n",
       "      <th>Adj Close</th>\n",
       "    </tr>\n",
       "    <tr>\n",
       "      <th>Date</th>\n",
       "      <th></th>\n",
       "      <th></th>\n",
       "      <th></th>\n",
       "      <th></th>\n",
       "      <th></th>\n",
       "      <th></th>\n",
       "    </tr>\n",
       "  </thead>\n",
       "  <tbody>\n",
       "    <tr>\n",
       "      <th>2016-11-03</th>\n",
       "      <td>28.049999</td>\n",
       "      <td>28.549999</td>\n",
       "      <td>24.440001</td>\n",
       "      <td>24.549999</td>\n",
       "      <td>9177000</td>\n",
       "      <td>24.549999</td>\n",
       "    </tr>\n",
       "    <tr>\n",
       "      <th>2016-11-04</th>\n",
       "      <td>24.910000</td>\n",
       "      <td>27.389999</td>\n",
       "      <td>24.889999</td>\n",
       "      <td>26.760000</td>\n",
       "      <td>4444600</td>\n",
       "      <td>26.760000</td>\n",
       "    </tr>\n",
       "    <tr>\n",
       "      <th>2016-11-07</th>\n",
       "      <td>28.879999</td>\n",
       "      <td>30.700001</td>\n",
       "      <td>28.200001</td>\n",
       "      <td>30.299999</td>\n",
       "      <td>5378500</td>\n",
       "      <td>30.299999</td>\n",
       "    </tr>\n",
       "    <tr>\n",
       "      <th>2016-11-08</th>\n",
       "      <td>29.510000</td>\n",
       "      <td>32.340000</td>\n",
       "      <td>29.230000</td>\n",
       "      <td>31.100000</td>\n",
       "      <td>4243000</td>\n",
       "      <td>31.100000</td>\n",
       "    </tr>\n",
       "    <tr>\n",
       "      <th>2016-11-09</th>\n",
       "      <td>38.410000</td>\n",
       "      <td>41.959999</td>\n",
       "      <td>36.689999</td>\n",
       "      <td>41.480000</td>\n",
       "      <td>9941400</td>\n",
       "      <td>41.480000</td>\n",
       "    </tr>\n",
       "    <tr>\n",
       "      <th>2016-11-10</th>\n",
       "      <td>43.875999</td>\n",
       "      <td>46.700001</td>\n",
       "      <td>41.021000</td>\n",
       "      <td>44.560001</td>\n",
       "      <td>5629700</td>\n",
       "      <td>44.560001</td>\n",
       "    </tr>\n",
       "    <tr>\n",
       "      <th>2016-11-11</th>\n",
       "      <td>43.000000</td>\n",
       "      <td>45.880001</td>\n",
       "      <td>42.029999</td>\n",
       "      <td>45.369999</td>\n",
       "      <td>4028100</td>\n",
       "      <td>45.369999</td>\n",
       "    </tr>\n",
       "    <tr>\n",
       "      <th>2016-11-14</th>\n",
       "      <td>45.759998</td>\n",
       "      <td>49.400002</td>\n",
       "      <td>43.799999</td>\n",
       "      <td>49.270000</td>\n",
       "      <td>3740400</td>\n",
       "      <td>49.270000</td>\n",
       "    </tr>\n",
       "    <tr>\n",
       "      <th>2016-11-15</th>\n",
       "      <td>48.299999</td>\n",
       "      <td>48.930000</td>\n",
       "      <td>45.779999</td>\n",
       "      <td>48.340000</td>\n",
       "      <td>2996400</td>\n",
       "      <td>48.340000</td>\n",
       "    </tr>\n",
       "    <tr>\n",
       "      <th>2016-11-16</th>\n",
       "      <td>46.959999</td>\n",
       "      <td>48.610001</td>\n",
       "      <td>43.470001</td>\n",
       "      <td>43.709999</td>\n",
       "      <td>2896400</td>\n",
       "      <td>43.709999</td>\n",
       "    </tr>\n",
       "    <tr>\n",
       "      <th>2016-11-17</th>\n",
       "      <td>44.400002</td>\n",
       "      <td>46.250000</td>\n",
       "      <td>42.500000</td>\n",
       "      <td>45.860001</td>\n",
       "      <td>2663000</td>\n",
       "      <td>45.860001</td>\n",
       "    </tr>\n",
       "    <tr>\n",
       "      <th>2016-11-18</th>\n",
       "      <td>46.000000</td>\n",
       "      <td>46.825001</td>\n",
       "      <td>43.360001</td>\n",
       "      <td>44.599998</td>\n",
       "      <td>1619400</td>\n",
       "      <td>44.599998</td>\n",
       "    </tr>\n",
       "  </tbody>\n",
       "</table>\n",
       "</div>"
      ],
      "text/plain": [
       "                 Open       High        Low      Close   Volume  Adj Close\n",
       "Date                                                                      \n",
       "2016-11-03  28.049999  28.549999  24.440001  24.549999  9177000  24.549999\n",
       "2016-11-04  24.910000  27.389999  24.889999  26.760000  4444600  26.760000\n",
       "2016-11-07  28.879999  30.700001  28.200001  30.299999  5378500  30.299999\n",
       "2016-11-08  29.510000  32.340000  29.230000  31.100000  4243000  31.100000\n",
       "2016-11-09  38.410000  41.959999  36.689999  41.480000  9941400  41.480000\n",
       "2016-11-10  43.875999  46.700001  41.021000  44.560001  5629700  44.560001\n",
       "2016-11-11  43.000000  45.880001  42.029999  45.369999  4028100  45.369999\n",
       "2016-11-14  45.759998  49.400002  43.799999  49.270000  3740400  49.270000\n",
       "2016-11-15  48.299999  48.930000  45.779999  48.340000  2996400  48.340000\n",
       "2016-11-16  46.959999  48.610001  43.470001  43.709999  2896400  43.709999\n",
       "2016-11-17  44.400002  46.250000  42.500000  45.860001  2663000  45.860001\n",
       "2016-11-18  46.000000  46.825001  43.360001  44.599998  1619400  44.599998"
      ]
     },
     "execution_count": 143,
     "metadata": {},
     "output_type": "execute_result"
    }
   ],
   "source": [
    "stock_data"
   ]
  },
  {
   "cell_type": "code",
   "execution_count": 197,
   "metadata": {
    "collapsed": false
   },
   "outputs": [],
   "source": [
    "#Counts mentions and bullish/bearish ratio of stock tweets collected\n",
    "def tweet_metrics(stock_data, stock_tweets):\n",
    "    stock_data['mentions'] = np.zeros(stock_data.shape[0])\n",
    "    stock_data['total_bullish'] = np.zeros(stock_data.shape[0])\n",
    "    stock_data['total_bearish'] = np.zeros(stock_data.shape[0])\n",
    "    stock_data['bull_ratio'] = np.zeros(stock_data.shape[0])\n",
    "    for i, d in enumerate(stock_data.index):\n",
    "        tweets_on_d = stock_tweets[stock_tweets['created_at'].dt.date==d.date()]\n",
    "        stock_data.loc[d,'mentions'] = tweets_on_d.shape[0]\n",
    "        stock_data.loc[d,'total_bullish'] = int(tweets_on_d[tweets_on_d['basic_sentiment']==1].shape[0])\n",
    "        stock_data.loc[d,'total_bearish'] = int(tweets_on_d[tweets_on_d['basic_sentiment']==-1].shape[0])\n",
    "        stock_data.loc[d,'bull_ratio'] = stock_data.loc[d,'total_bullish']/float(stock_data.loc[d,'total_bullish']+stock_data.loc[d,'total_bearish'])\n",
    "    \n",
    "    return stock_data"
   ]
  },
  {
   "cell_type": "code",
   "execution_count": 198,
   "metadata": {
    "collapsed": false
   },
   "outputs": [
    {
     "name": "stdout",
     "output_type": "stream",
     "text": [
      "            mentions  total_bullish  total_bearish  bull_ratio\n",
      "Date                                                          \n",
      "2016-11-03     294.0           37.0           24.0    0.606557\n",
      "2016-11-04     272.0           53.0            9.0    0.854839\n",
      "2016-11-07     175.0           36.0           14.0    0.720000\n",
      "2016-11-08     142.0           46.0           10.0    0.821429\n",
      "2016-11-09     616.0          173.0           45.0    0.793578\n",
      "2016-11-10     375.0           77.0           51.0    0.601562\n",
      "2016-11-11     210.0           57.0           35.0    0.619565\n",
      "2016-11-14     235.0           48.0           38.0    0.558140\n",
      "2016-11-15     142.0           30.0           34.0    0.468750\n",
      "2016-11-16     167.0           29.0           44.0    0.397260\n",
      "2016-11-17      82.0           22.0           19.0    0.536585\n",
      "2016-11-18     106.0           23.0           24.0    0.489362\n"
     ]
    }
   ],
   "source": [
    "stock_metrics = tweet_metrics(stock_data, db)\n",
    "print stock_metrics[['mentions','total_bullish','total_bearish','bull_ratio']]"
   ]
  },
  {
   "cell_type": "code",
   "execution_count": 203,
   "metadata": {
    "collapsed": false
   },
   "outputs": [
    {
     "data": {
      "image/png": "[encoded data removed]",
      "text/plain": [
       "<matplotlib.figure.Figure at 0x7fc1da21cb10>"
      ]
     },
     "metadata": {},
     "output_type": "display_data"
    },
    {
     "data": {
      "image/png": "[encoded data removed]",
      "text/plain": [
       "<matplotlib.figure.Figure at 0x7fc1da21c490>"
      ]
     },
     "metadata": {},
     "output_type": "display_data"
    }
   ],
   "source": [
    "#fig = plt.figure(figsize=(10,4))\n",
    "#ax = fig.add_subplot(111)\n",
    "#l1 = ax.plot(stockData['Adj Close'])\n",
    "stock_metrics[['mentions']].plot(legend=True,figsize=(10,4));\n",
    "stock_metrics[['Volume']].plot(legend=True,figsize=(10,4));"
   ]
  },
  {
   "cell_type": "code",
   "execution_count": 204,
   "metadata": {
    "collapsed": false
   },
   "outputs": [
    {
     "data": {
      "image/png": "[encoded data removed]",
      "text/plain": [
       "<matplotlib.figure.Figure at 0x7fc1dbeda950>"
      ]
     },
     "metadata": {},
     "output_type": "display_data"
    }
   ],
   "source": [
    "stock_metrics[['total_bullish','total_bearish','Adj Close']].plot(legend=True,figsize=(10,4));"
   ]
  },
  {
   "cell_type": "code",
   "execution_count": 138,
   "metadata": {
    "collapsed": true
   },
   "outputs": [],
   "source": [
    "def SaveTwits(filename, db, symbol):\n",
    "    conn = sqlite3.connect(filename)\n",
    "    db.to_sql(symbol, conn)\n",
    "    conn.close()\n",
    "#fn = 'stocktwits.db'\n",
    "#SaveTwits(fn, db)"
   ]
  }
 ],
 "metadata": {
  "anaconda-cloud": {},
  "kernelspec": {
   "display_name": "Python [dataScience]",
   "language": "python",
   "name": "Python [dataScience]"
  },
  "language_info": {
   "codemirror_mode": {
    "name": "ipython",
    "version": 2
   },
   "file_extension": ".py",
   "mimetype": "text/x-python",
   "name": "python",
   "nbconvert_exporter": "python",
   "pygments_lexer": "ipython2",
   "version": "2.7.12"
  }
 },
 "nbformat": 4,
 "nbformat_minor": 1
}
